{
  "nbformat": 4,
  "nbformat_minor": 0,
  "metadata": {
    "colab": {
      "provenance": []
    },
    "kernelspec": {
      "name": "python3",
      "display_name": "Python 3"
    },
    "language_info": {
      "name": "python"
    }
  },
  "cells": [
    {
      "cell_type": "markdown",
      "source": [
        "**IMPORT LIBRARY YANG DIPERLUKAN**"
      ],
      "metadata": {
        "id": "qB0PancNs5j1"
      }
    },
    {
      "cell_type": "code",
      "execution_count": 1,
      "metadata": {
        "id": "GYfiGUTSrynq"
      },
      "outputs": [],
      "source": [
        "import pandas as pd\n",
        "import joblib\n",
        "import os\n",
        "from sklearn.metrics import accuracy_score, classification_report, confusion_matrix, precision_score, recall_score, f1_score\n",
        "import seaborn as sns\n",
        "import matplotlib.pyplot as plt"
      ]
    },
    {
      "cell_type": "markdown",
      "source": [
        "**CEK FILE YANG DIBUTUHKAN**"
      ],
      "metadata": {
        "id": "0OineaNhs-d9"
      }
    },
    {
      "cell_type": "code",
      "source": [
        "required_files = [\"weather_model.pkl\", \"weather_label_encoder.pkl\", \"X_test_weather.csv\", \"y_test_weather.csv\"]\n",
        "for file in required_files:\n",
        "    if not os.path.exists(file):\n",
        "        raise FileNotFoundError(f\"File '{file}' tidak ditemukan.\")"
      ],
      "metadata": {
        "id": "oetxfbdpr5H0"
      },
      "execution_count": 2,
      "outputs": []
    },
    {
      "cell_type": "markdown",
      "source": [
        "**LOAD MODEL DAN DATA UJI**"
      ],
      "metadata": {
        "id": "O99MCV0wtCkI"
      }
    },
    {
      "cell_type": "code",
      "source": [
        "print(\"Memuat model dan data uji...\")\n",
        "model = joblib.load(\"weather_model.pkl\")\n",
        "label_encoder = joblib.load(\"weather_label_encoder.pkl\")\n",
        "X_test = pd.read_csv(\"X_test_weather.csv\")\n",
        "y_test = pd.read_csv(\"y_test_weather.csv\").squeeze()"
      ],
      "metadata": {
        "colab": {
          "base_uri": "https://localhost:8080/"
        },
        "id": "1y-C8LrQr5KU",
        "outputId": "07bd6e38-fa78-45df-e7fb-f3319fb8a266"
      },
      "execution_count": 3,
      "outputs": [
        {
          "output_type": "stream",
          "name": "stdout",
          "text": [
            "Memuat model dan data uji...\n"
          ]
        }
      ]
    },
    {
      "cell_type": "markdown",
      "source": [
        "**MELAKUKAN PREDIKSI DENGAN MODEL**"
      ],
      "metadata": {
        "id": "HUTqBDYwtGRJ"
      }
    },
    {
      "cell_type": "code",
      "source": [
        "y_pred = model.predict(X_test)"
      ],
      "metadata": {
        "id": "oK8yDW21r5Mx"
      },
      "execution_count": 4,
      "outputs": []
    },
    {
      "cell_type": "markdown",
      "source": [
        "**EVALUASI MODEL**"
      ],
      "metadata": {
        "id": "3H_GLYwMtKQj"
      }
    },
    {
      "cell_type": "code",
      "source": [
        "accuracy = accuracy_score(y_test, y_pred)\n",
        "precision = precision_score(y_test, y_pred, average='weighted')\n",
        "recall = recall_score(y_test, y_pred, average='weighted')\n",
        "f1 = f1_score(y_test, y_pred, average='weighted')"
      ],
      "metadata": {
        "colab": {
          "base_uri": "https://localhost:8080/"
        },
        "id": "nlbjACqmr5PY",
        "outputId": "9b8f304b-5876-459b-ef63-9b79f04f064c"
      },
      "execution_count": 5,
      "outputs": [
        {
          "output_type": "stream",
          "name": "stderr",
          "text": [
            "/usr/local/lib/python3.11/dist-packages/sklearn/metrics/_classification.py:1565: UndefinedMetricWarning: Precision is ill-defined and being set to 0.0 in labels with no predicted samples. Use `zero_division` parameter to control this behavior.\n",
            "  _warn_prf(average, modifier, f\"{metric.capitalize()} is\", len(result))\n"
          ]
        }
      ]
    },
    {
      "cell_type": "markdown",
      "source": [
        "**HASIL EVALUASI**"
      ],
      "metadata": {
        "id": "woknMLKqtOL1"
      }
    },
    {
      "cell_type": "code",
      "source": [
        "with open(\"evaluation_report.txt\", \"w\") as f:\n",
        "    f.write(\"Akurasi: {:.4f}\\n\".format(accuracy))\n",
        "    f.write(\"Presisi: {:.4f}\\n\".format(precision))\n",
        "    f.write(\"Recall: {:.4f}\\n\".format(recall))\n",
        "    f.write(\"F1 Score: {:.4f}\\n\\n\".format(f1))\n",
        "    f.write(\"Laporan Klasifikasi:\\n\")\n",
        "    f.write(classification_report(y_test, y_pred, target_names=label_encoder.classes_))\n",
        "\n",
        "print(\"Akurasi: {:.4f}\".format(accuracy))\n",
        "print(\"Presisi: {:.4f}\".format(precision))\n",
        "print(\"Recall: {:.4f}\".format(recall))\n",
        "print(\"F1 Score: {:.4f}\\n\".format(f1))\n",
        "\n",
        "print(\"Laporan Klasifikasi:\")\n",
        "print(classification_report(y_test, y_pred, target_names=label_encoder.classes_))\n",
        "print(\"Accuracy Score:\", accuracy_score(y_test, y_pred))"
      ],
      "metadata": {
        "colab": {
          "base_uri": "https://localhost:8080/"
        },
        "id": "t26R7_PZr5Rq",
        "outputId": "4fda66ce-d4b0-4bdf-e033-dd3f87f67cde"
      },
      "execution_count": 8,
      "outputs": [
        {
          "output_type": "stream",
          "name": "stdout",
          "text": [
            "Akurasi: 0.8294\n",
            "Presisi: 0.7506\n",
            "Recall: 0.8294\n",
            "F1 Score: 0.7827\n",
            "\n",
            "Laporan Klasifikasi:\n",
            "              precision    recall  f1-score   support\n",
            "\n",
            "     drizzle       0.00      0.00      0.00         9\n",
            "         fog       0.00      0.00      0.00        25\n",
            "        rain       0.96      0.91      0.94       120\n",
            "        snow       0.57      0.50      0.53         8\n",
            "         sun       0.76      0.99      0.86       131\n",
            "\n",
            "    accuracy                           0.83       293\n",
            "   macro avg       0.46      0.48      0.47       293\n",
            "weighted avg       0.75      0.83      0.78       293\n",
            "\n",
            "Accuracy Score: 0.8293515358361775\n"
          ]
        },
        {
          "output_type": "stream",
          "name": "stderr",
          "text": [
            "/usr/local/lib/python3.11/dist-packages/sklearn/metrics/_classification.py:1565: UndefinedMetricWarning: Precision is ill-defined and being set to 0.0 in labels with no predicted samples. Use `zero_division` parameter to control this behavior.\n",
            "  _warn_prf(average, modifier, f\"{metric.capitalize()} is\", len(result))\n",
            "/usr/local/lib/python3.11/dist-packages/sklearn/metrics/_classification.py:1565: UndefinedMetricWarning: Precision is ill-defined and being set to 0.0 in labels with no predicted samples. Use `zero_division` parameter to control this behavior.\n",
            "  _warn_prf(average, modifier, f\"{metric.capitalize()} is\", len(result))\n",
            "/usr/local/lib/python3.11/dist-packages/sklearn/metrics/_classification.py:1565: UndefinedMetricWarning: Precision is ill-defined and being set to 0.0 in labels with no predicted samples. Use `zero_division` parameter to control this behavior.\n",
            "  _warn_prf(average, modifier, f\"{metric.capitalize()} is\", len(result))\n",
            "/usr/local/lib/python3.11/dist-packages/sklearn/metrics/_classification.py:1565: UndefinedMetricWarning: Precision is ill-defined and being set to 0.0 in labels with no predicted samples. Use `zero_division` parameter to control this behavior.\n",
            "  _warn_prf(average, modifier, f\"{metric.capitalize()} is\", len(result))\n",
            "/usr/local/lib/python3.11/dist-packages/sklearn/metrics/_classification.py:1565: UndefinedMetricWarning: Precision is ill-defined and being set to 0.0 in labels with no predicted samples. Use `zero_division` parameter to control this behavior.\n",
            "  _warn_prf(average, modifier, f\"{metric.capitalize()} is\", len(result))\n",
            "/usr/local/lib/python3.11/dist-packages/sklearn/metrics/_classification.py:1565: UndefinedMetricWarning: Precision is ill-defined and being set to 0.0 in labels with no predicted samples. Use `zero_division` parameter to control this behavior.\n",
            "  _warn_prf(average, modifier, f\"{metric.capitalize()} is\", len(result))\n"
          ]
        }
      ]
    },
    {
      "cell_type": "markdown",
      "source": [
        "**CONFUSION MATRIX**"
      ],
      "metadata": {
        "id": "YYIBBBlYtTJd"
      }
    },
    {
      "cell_type": "code",
      "source": [
        "print(\"Menyimpan dan menampilkan Confusion Matrix...\")\n",
        "cm = confusion_matrix(y_test, y_pred)\n",
        "plt.figure(figsize=(10, 6))\n",
        "sns.heatmap(cm, annot=True, fmt=\"d\", xticklabels=label_encoder.classes_, yticklabels=label_encoder.classes_, cmap=\"Blues\")\n",
        "plt.xlabel(\"Predicted\")\n",
        "plt.ylabel(\"Actual\")\n",
        "plt.title(\"Confusion Matrix\")\n",
        "plt.tight_layout()\n",
        "plt.savefig(\"confusion_matrix.png\")\n",
        "plt.show()"
      ],
      "metadata": {
        "colab": {
          "base_uri": "https://localhost:8080/",
          "height": 624
        },
        "id": "zmTUePhYsW4y",
        "outputId": "bd682642-f9fa-4c87-e47f-e2034b610add"
      },
      "execution_count": 7,
      "outputs": [
        {
          "output_type": "stream",
          "name": "stdout",
          "text": [
            "Menyimpan dan menampilkan Confusion Matrix...\n"
          ]
        },
        {
          "output_type": "display_data",
          "data": {
            "text/plain": [
              "<Figure size 1000x600 with 2 Axes>"
            ],
            "image/png": "[encoded data removed]"
          },
          "metadata": {}
        }
      ]
    }
  ]
}